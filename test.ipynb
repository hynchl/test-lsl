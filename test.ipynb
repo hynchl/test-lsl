{
 "cells": [
  {
   "cell_type": "code",
   "execution_count": 21,
   "metadata": {},
   "outputs": [
    {
     "name": "stderr",
     "output_type": "stream",
     "text": [
      "Stream 1: Calculated effective sampling rate 535.4406 Hz is different from specified rate 100.0000 Hz.\n",
      "Stream 2: Calculated effective sampling rate 535.0697 Hz is different from specified rate 100.0000 Hz.\n"
     ]
    },
    {
     "name": "stdout",
     "output_type": "stream",
     "text": [
      "2\n",
      "dict_keys(['info', 'footer', 'time_series', 'time_stamps'])\n"
     ]
    }
   ],
   "source": [
    "import pyxdf\n",
    "import matplotlib.pyplot as plt\n",
    "import numpy as np\n",
    "\n",
    "data, header = pyxdf.load_xdf('data/P002.xdf')\n",
    "print(len(data))\n",
    "print(data[0].keys())"
   ]
  },
  {
   "cell_type": "code",
   "execution_count": 22,
   "metadata": {},
   "outputs": [
    {
     "data": {
      "text/plain": [
       "{'info': defaultdict(list,\n",
       "             {'version': ['1.0'], 'datetime': ['2022-04-26T13:22:34+0900']})}"
      ]
     },
     "execution_count": 22,
     "metadata": {},
     "output_type": "execute_result"
    }
   ],
   "source": [
    "header"
   ]
  },
  {
   "cell_type": "code",
   "execution_count": 23,
   "metadata": {},
   "outputs": [
    {
     "data": {
      "text/plain": [
       "defaultdict(list,\n",
       "            {'name': ['Test'],\n",
       "             'type': ['MyType'],\n",
       "             'channel_count': ['20'],\n",
       "             'channel_format': ['float32'],\n",
       "             'source_id': ['62d4a1cf-c518-11ec-85c1-04421aeb51ca'],\n",
       "             'nominal_srate': ['100.0000000000000'],\n",
       "             'version': ['1.100000000000000'],\n",
       "             'created_at': ['564862.9257365000'],\n",
       "             'uid': ['024d8a0f-9af0-4300-b1cc-da32e5ef5a11'],\n",
       "             'session_id': ['default'],\n",
       "             'hostname': ['DESKTOP-49PF30P'],\n",
       "             'v4address': [None],\n",
       "             'v4data_port': ['16572'],\n",
       "             'v4service_port': ['16572'],\n",
       "             'v6address': [None],\n",
       "             'v6data_port': ['16572'],\n",
       "             'v6service_port': ['16572'],\n",
       "             'desc': [None],\n",
       "             'stream_id': 1,\n",
       "             'effective_srate': 535.4406158238535})"
      ]
     },
     "execution_count": 23,
     "metadata": {},
     "output_type": "execute_result"
    }
   ],
   "source": [
    "data[0]['info']"
   ]
  },
  {
   "cell_type": "code",
   "execution_count": 12,
   "metadata": {},
   "outputs": [
    {
     "data": {
      "text/plain": [
       "{'info': defaultdict(list,\n",
       "             {'first_timestamp': ['553374.5928194'],\n",
       "              'last_timestamp': ['553385.5929077'],\n",
       "              'sample_count': ['5894'],\n",
       "              'clock_offsets': [defaultdict(list,\n",
       "                           {'offset': [defaultdict(list,\n",
       "                                         {'time': ['553380.2353552501'],\n",
       "                                          'value': ['-8.450064342468977e-06']}),\n",
       "                             defaultdict(list,\n",
       "                                         {'time': ['553385.2362122999'],\n",
       "                                          'value': ['-6.999471224844456e-07']}),\n",
       "                             defaultdict(list,\n",
       "                                         {'time': ['553390.2372013'],\n",
       "                                          'value': ['-2.600019797682762e-06']})]})]})}"
      ]
     },
     "execution_count": 12,
     "metadata": {},
     "output_type": "execute_result"
    }
   ],
   "source": [
    "data[0]['footer']\n"
   ]
  },
  {
   "cell_type": "code",
   "execution_count": 13,
   "metadata": {},
   "outputs": [
    {
     "data": {
      "text/plain": [
       "array([553374.60314491, 553374.60500737, 553374.60686983, ...,\n",
       "       553385.576741  , 553385.57860346, 553385.58046591])"
      ]
     },
     "execution_count": 13,
     "metadata": {},
     "output_type": "execute_result"
    }
   ],
   "source": [
    "data[0]['time_stamps']"
   ]
  },
  {
   "cell_type": "code",
   "execution_count": 15,
   "metadata": {},
   "outputs": [
    {
     "data": {
      "text/plain": [
       "array([[1.6509354e+09, 3.1188825e-01, 3.7419701e-01, ..., 9.2348921e-01,\n",
       "        3.5961274e-02, 7.0874882e-01],\n",
       "       [1.6509354e+09, 2.8357221e-02, 9.1784096e-01, ..., 4.2571598e-01,\n",
       "        2.5146869e-01, 5.4735202e-01],\n",
       "       [1.6509354e+09, 5.8286822e-01, 7.3458534e-01, ..., 7.2488850e-01,\n",
       "        3.5608655e-01, 9.4767368e-01],\n",
       "       ...,\n",
       "       [1.6509354e+09, 9.7869182e-01, 9.3595093e-01, ..., 1.6273098e-01,\n",
       "        5.3307956e-01, 2.3345405e-01],\n",
       "       [1.6509354e+09, 6.4766943e-01, 6.6258675e-01, ..., 6.9053835e-01,\n",
       "        6.0524946e-01, 8.0953419e-02],\n",
       "       [1.6509354e+09, 7.3676640e-01, 1.8291777e-01, ..., 1.7665731e-02,\n",
       "        7.5032085e-01, 2.5379831e-02]], dtype=float32)"
      ]
     },
     "execution_count": 15,
     "metadata": {},
     "output_type": "execute_result"
    }
   ],
   "source": [
    "data[0]['time_series']"
   ]
  }
 ],
 "metadata": {
  "interpreter": {
   "hash": "48a96f31235eada02804c7a63d25d7d4b9b306923c4a60f5503be32b22412b32"
  },
  "kernelspec": {
   "display_name": "Python 3.9.12 ('lsl')",
   "language": "python",
   "name": "python3"
  },
  "language_info": {
   "codemirror_mode": {
    "name": "ipython",
    "version": 3
   },
   "file_extension": ".py",
   "mimetype": "text/x-python",
   "name": "python",
   "nbconvert_exporter": "python",
   "pygments_lexer": "ipython3",
   "version": "3.9.12"
  },
  "orig_nbformat": 4
 },
 "nbformat": 4,
 "nbformat_minor": 2
}
